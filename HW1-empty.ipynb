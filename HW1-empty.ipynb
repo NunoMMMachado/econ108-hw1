{
 "cells": [
  {
   "cell_type": "markdown",
   "id": "c5f1ff02-27ec-4538-b357-abccc80424b4",
   "metadata": {},
   "source": [
    "# Homework 1"
   ]
  },
  {
   "cell_type": "markdown",
   "id": "a154b8f8-4c14-462c-8471-b6a3acd13d93",
   "metadata": {},
   "source": [
    "## Part I. HICP data from SDW"
   ]
  },
  {
   "cell_type": "code",
   "execution_count": null,
   "id": "02f3b1c7-2d3c-4266-9d74-521b55179602",
   "metadata": {},
   "outputs": [],
   "source": [
    "# import pandas (and other libraries you may want to use)\n",
    "\n"
   ]
  },
  {
   "cell_type": "code",
   "execution_count": 4,
   "id": "749fc225-2286-4537-96ce-ee9a88824e7e",
   "metadata": {},
   "outputs": [],
   "source": [
    "# import the data files you downloaded from SDW\n"
   ]
  },
  {
   "cell_type": "code",
   "execution_count": 5,
   "id": "a4ba03fb-0ea4-4841-9920-4c6863a9ebae",
   "metadata": {},
   "outputs": [],
   "source": [
    "# Print as a list the codes of the subindices you downloaded.\n",
    "# For example, if you download items from the __FOOD AND NON-ALCOHOLIC BEVERAGES__ category, \n",
    "# list all codes type `01XX00` you were able to download. \n",
    "\n"
   ]
  },
  {
   "cell_type": "code",
   "execution_count": null,
   "id": "68ebd4de-f3aa-4563-a7a4-f268d58b4349",
   "metadata": {},
   "outputs": [],
   "source": [
    "# create a single dataframe combining data for all HICP subindices you downloaded\n"
   ]
  },
  {
   "cell_type": "code",
   "execution_count": 1,
   "id": "45300e58-adf8-4f7f-9495-12af098718b5",
   "metadata": {},
   "outputs": [],
   "source": [
    "# make other changes to the dataframe - set datetime index, rename the columns (up to you, but shortning very names may be a good idea)\n",
    "\n"
   ]
  },
  {
   "cell_type": "code",
   "execution_count": null,
   "id": "eba8957a-e33f-4792-a1ee-3edb907503ca",
   "metadata": {},
   "outputs": [],
   "source": [
    "# print the type of the index of the dataframe\n",
    "\n"
   ]
  },
  {
   "cell_type": "code",
   "execution_count": null,
   "id": "b1cf6ef2-4f16-40bb-8a87-e4e471fd3d69",
   "metadata": {},
   "outputs": [],
   "source": [
    "# print the data types of the columns in the dataframe\n",
    "\n"
   ]
  },
  {
   "cell_type": "code",
   "execution_count": null,
   "id": "a8b9ef42-0a94-498d-a1f2-4e0c10353b60",
   "metadata": {},
   "outputs": [],
   "source": [
    "# save as a csv file under the name of the item group\n",
    "\n"
   ]
  },
  {
   "cell_type": "code",
   "execution_count": 6,
   "id": "6039837b-d10f-4c30-8727-9156e0f88cee",
   "metadata": {},
   "outputs": [],
   "source": [
    "# compute and print the means and standard deviations for each series for the full period\n",
    "\n"
   ]
  },
  {
   "cell_type": "code",
   "execution_count": null,
   "id": "4a10f2d1-06c5-4424-aacb-e8e4bbc1e53e",
   "metadata": {},
   "outputs": [],
   "source": [
    "# compute and print the means and standard deviations for each calendar month for each series\n",
    "\n"
   ]
  },
  {
   "cell_type": "code",
   "execution_count": 7,
   "id": "e57ae82b-7c48-477c-b553-f86e2a366195",
   "metadata": {},
   "outputs": [],
   "source": [
    "# redo the above for the period between January 2017 and December 2021\n",
    "\n"
   ]
  },
  {
   "cell_type": "markdown",
   "id": "16626d75-4574-4c19-af94-d8d020493ffc",
   "metadata": {},
   "source": [
    "## Part II. GDP data from EUROSTAT"
   ]
  },
  {
   "cell_type": "code",
   "execution_count": null,
   "id": "e0ec3bcb-cd2c-45b4-b0a5-69b0ebfcb586",
   "metadata": {},
   "outputs": [],
   "source": [
    "# import the data files you downloaded from EUROSTAT\n",
    "\n"
   ]
  },
  {
   "cell_type": "code",
   "execution_count": null,
   "id": "c238701f-598d-42cf-be0d-c2921da65ee5",
   "metadata": {},
   "outputs": [],
   "source": [
    "# create a dataframe with a datetime index matching the timing of the series you downloaded\n",
    "\n"
   ]
  },
  {
   "cell_type": "code",
   "execution_count": null,
   "id": "a9260822-3f8a-4f37-92df-82dc4e2577b1",
   "metadata": {},
   "outputs": [],
   "source": [
    "# save as a csv file under the name \"Real-GDP-EA.csv\"\n",
    "\n"
   ]
  },
  {
   "cell_type": "markdown",
   "id": "2ce9412b-8f43-46bf-a5da-4308d868bb38",
   "metadata": {},
   "source": [
    "## PART III Combine GDP and inflation data"
   ]
  },
  {
   "cell_type": "code",
   "execution_count": null,
   "id": "71c478bc-abb6-44e3-91dc-608ac7f24d4f",
   "metadata": {},
   "outputs": [],
   "source": [
    "# create a new datafame containing the GDP data and the inflation indices from the first task.\n"
   ]
  },
  {
   "cell_type": "code",
   "execution_count": null,
   "id": "0e54a460-99c4-430d-b69b-f2523ffbd2aa",
   "metadata": {},
   "outputs": [],
   "source": [
    "#save as a csv file named \"merged-GDP-inflation.csv\"\n",
    "\n"
   ]
  }
 ],
 "metadata": {
  "kernelspec": {
   "display_name": "Python 3 (ipykernel)",
   "language": "python",
   "name": "python3"
  },
  "language_info": {
   "codemirror_mode": {
    "name": "ipython",
    "version": 3
   },
   "file_extension": ".py",
   "mimetype": "text/x-python",
   "name": "python",
   "nbconvert_exporter": "python",
   "pygments_lexer": "ipython3",
   "version": "3.10.2"
  }
 },
 "nbformat": 4,
 "nbformat_minor": 5
}
